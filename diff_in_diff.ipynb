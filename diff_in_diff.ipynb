{
 "cells": [
  {
   "cell_type": "code",
   "execution_count": 14,
   "metadata": {},
   "outputs": [],
   "source": [
    "import pandas as pd"
   ]
  },
  {
   "cell_type": "code",
   "execution_count": 15,
   "metadata": {},
   "outputs": [
    {
     "data": {
      "text/plain": [
       "<module 'diff_in_diff' from '/Users/jjespinoza/Documents/repos/Econometrics/diff_in_diff.py'>"
      ]
     },
     "execution_count": 15,
     "metadata": {},
     "output_type": "execute_result"
    }
   ],
   "source": [
    "import diff_in_diff\n",
    "import importlib\n",
    "\n",
    "importlib.reload(diff_in_diff)\n"
   ]
  },
  {
   "cell_type": "code",
   "execution_count": 16,
   "metadata": {},
   "outputs": [
    {
     "name": "stdout",
     "output_type": "stream",
     "text": [
      "WARNING *** OLE2 inconsistency: SSCS size is 0 but SSAT size is non-zero\n"
     ]
    }
   ],
   "source": [
    "df = pd.read_excel('data/kielmc.xls')"
   ]
  },
  {
   "cell_type": "code",
   "execution_count": 17,
   "metadata": {},
   "outputs": [
    {
     "name": "stdout",
     "output_type": "stream",
     "text": [
      "KIELMC.DES\n",
      "\n",
      "year      age       agesq     nbh       cbd       intst     lintst    price    \n",
      "rooms     area      land      baths     dist      ldist     wind      lprice   \n",
      "y81       larea     lland     y81ldist  lintstsq  nearinc   y81nrinc  rprice   \n",
      "lrprice   \n",
      "\n",
      "  Obs:   321\n",
      "\n",
      "  1. year                     1978 or 1981\n",
      "  2. age                      age of house\n",
      "  3. agesq                    age^2\n",
      "  4. nbh                      neighborhood #, 1 to 6\n",
      "  5. cbd                      dist. to central bus. dstrct, feet\n",
      "  6. intst                    dist. to interstate, feet\n",
      "  7. lintst                   log(intst)\n",
      "  8. price                    selling price\n",
      "  9. rooms                    # rooms in house\n",
      " 10. area                     square footage of house\n",
      " 11. land                     square footage lot\n",
      " 12. baths                    # bathrooms\n",
      " 13. dist                     dist. from house to incinerator, feet\n",
      " 14. ldist                    log(dist)\n",
      " 15. wind                     perc. time wind incin. to house\n",
      " 16. lprice                   log(price)\n",
      " 17. y81                      =1 if year == 1981\n",
      " 18. larea                    log(area)\n",
      " 19. lland                    log(land)\n",
      " 20. y81ldist                 y81*ldist\n",
      " 21. lintstsq                 lintst^2\n",
      " 22. nearinc                  =1 if dist <= 15840\n",
      " 23. y81nrinc                 y81*nearinc\n",
      " 24. rprice                   price, 1978 dollars\n",
      " 25. lrprice                  log(rprice)\n",
      "\n"
     ]
    }
   ],
   "source": [
    "!cat data/kielmc.des"
   ]
  },
  {
   "cell_type": "code",
   "execution_count": 18,
   "metadata": {},
   "outputs": [],
   "source": [
    "new_column_names = ['year', 'age', 'agesq', 'nbh', 'cbd', 'intst', 'lintst', 'price', 'rooms', 'area', 'land', 'baths', 'dist', 'ldist', 'wind', 'lprice', 'y81', 'larea', 'lland', 'y81ldist', 'lintstsq', 'nearinc', 'y81nrinc', 'rprice', 'lrprice']\n",
    "df = df.rename(columns=dict(zip(df.columns, new_column_names)))\n",
    "df.to_excel('data/kielmc_clean.xlsx', index=False)\n"
   ]
  },
  {
   "cell_type": "code",
   "execution_count": 22,
   "metadata": {},
   "outputs": [
    {
     "data": {
      "text/html": [
       "<table class=\"simpletable\">\n",
       "<caption>OLS Regression Results</caption>\n",
       "<tr>\n",
       "  <th>Dep. Variable:</th>         <td>lprice</td>      <th>  R-squared:         </th> <td>   0.684</td>\n",
       "</tr>\n",
       "<tr>\n",
       "  <th>Model:</th>                   <td>OLS</td>       <th>  Adj. R-squared:    </th> <td>   0.677</td>\n",
       "</tr>\n",
       "<tr>\n",
       "  <th>Method:</th>             <td>Least Squares</td>  <th>  F-statistic:       </th> <td>   96.36</td>\n",
       "</tr>\n",
       "<tr>\n",
       "  <th>Date:</th>             <td>Thu, 11 Apr 2024</td> <th>  Prob (F-statistic):</th> <td>3.71e-74</td>\n",
       "</tr>\n",
       "<tr>\n",
       "  <th>Time:</th>                 <td>12:05:58</td>     <th>  Log-Likelihood:    </th> <td> -5.4537</td>\n",
       "</tr>\n",
       "<tr>\n",
       "  <th>No. Observations:</th>      <td>   320</td>      <th>  AIC:               </th> <td>   26.91</td>\n",
       "</tr>\n",
       "<tr>\n",
       "  <th>Df Residuals:</th>          <td>   312</td>      <th>  BIC:               </th> <td>   57.05</td>\n",
       "</tr>\n",
       "<tr>\n",
       "  <th>Df Model:</th>              <td>     7</td>      <th>                     </th>     <td> </td>   \n",
       "</tr>\n",
       "<tr>\n",
       "  <th>Covariance Type:</th>      <td>nonrobust</td>    <th>                     </th>     <td> </td>   \n",
       "</tr>\n",
       "</table>\n",
       "<table class=\"simpletable\">\n",
       "<tr>\n",
       "         <td></td>           <th>coef</th>     <th>std err</th>      <th>t</th>      <th>P>|t|</th>  <th>[0.025</th>    <th>0.975]</th>  \n",
       "</tr>\n",
       "<tr>\n",
       "  <th>const</th>          <td>   10.0579</td> <td>    0.121</td> <td>   82.864</td> <td> 0.000</td> <td>    9.819</td> <td>   10.297</td>\n",
       "</tr>\n",
       "<tr>\n",
       "  <th>nearinc</th>        <td>   -0.1557</td> <td>    0.047</td> <td>   -3.336</td> <td> 0.001</td> <td>   -0.248</td> <td>   -0.064</td>\n",
       "</tr>\n",
       "<tr>\n",
       "  <th>y81</th>            <td>    0.4110</td> <td>    0.035</td> <td>   11.717</td> <td> 0.000</td> <td>    0.342</td> <td>    0.480</td>\n",
       "</tr>\n",
       "<tr>\n",
       "  <th>treatment_post</th> <td>   -0.0672</td> <td>    0.063</td> <td>   -1.067</td> <td> 0.287</td> <td>   -0.191</td> <td>    0.057</td>\n",
       "</tr>\n",
       "<tr>\n",
       "  <th>rooms</th>          <td>    0.0843</td> <td>    0.020</td> <td>    4.308</td> <td> 0.000</td> <td>    0.046</td> <td>    0.123</td>\n",
       "</tr>\n",
       "<tr>\n",
       "  <th>area</th>           <td>    0.0003</td> <td> 2.47e-05</td> <td>   10.384</td> <td> 0.000</td> <td>    0.000</td> <td>    0.000</td>\n",
       "</tr>\n",
       "<tr>\n",
       "  <th>land</th>           <td> 7.968e-07</td> <td> 3.99e-07</td> <td>    1.998</td> <td> 0.047</td> <td> 1.22e-08</td> <td> 1.58e-06</td>\n",
       "</tr>\n",
       "<tr>\n",
       "  <th>wind</th>           <td>    0.0095</td> <td>    0.007</td> <td>    1.462</td> <td> 0.145</td> <td>   -0.003</td> <td>    0.022</td>\n",
       "</tr>\n",
       "</table>\n",
       "<table class=\"simpletable\">\n",
       "<tr>\n",
       "  <th>Omnibus:</th>       <td>34.956</td> <th>  Durbin-Watson:     </th> <td>   1.706</td>\n",
       "</tr>\n",
       "<tr>\n",
       "  <th>Prob(Omnibus):</th> <td> 0.000</td> <th>  Jarque-Bera (JB):  </th> <td>  74.438</td>\n",
       "</tr>\n",
       "<tr>\n",
       "  <th>Skew:</th>          <td>-0.572</td> <th>  Prob(JB):          </th> <td>6.85e-17</td>\n",
       "</tr>\n",
       "<tr>\n",
       "  <th>Kurtosis:</th>      <td> 5.067</td> <th>  Cond. No.          </th> <td>5.07e+05</td>\n",
       "</tr>\n",
       "</table><br/><br/>Notes:<br/>[1] Standard Errors assume that the covariance matrix of the errors is correctly specified.<br/>[2] The condition number is large, 5.07e+05. This might indicate that there are<br/>strong multicollinearity or other numerical problems."
      ],
      "text/latex": [
       "\\begin{center}\n",
       "\\begin{tabular}{lclc}\n",
       "\\toprule\n",
       "\\textbf{Dep. Variable:}    &      lprice      & \\textbf{  R-squared:         } &     0.684   \\\\\n",
       "\\textbf{Model:}            &       OLS        & \\textbf{  Adj. R-squared:    } &     0.677   \\\\\n",
       "\\textbf{Method:}           &  Least Squares   & \\textbf{  F-statistic:       } &     96.36   \\\\\n",
       "\\textbf{Date:}             & Thu, 11 Apr 2024 & \\textbf{  Prob (F-statistic):} &  3.71e-74   \\\\\n",
       "\\textbf{Time:}             &     12:05:58     & \\textbf{  Log-Likelihood:    } &   -5.4537   \\\\\n",
       "\\textbf{No. Observations:} &         320      & \\textbf{  AIC:               } &     26.91   \\\\\n",
       "\\textbf{Df Residuals:}     &         312      & \\textbf{  BIC:               } &     57.05   \\\\\n",
       "\\textbf{Df Model:}         &           7      & \\textbf{                     } &             \\\\\n",
       "\\textbf{Covariance Type:}  &    nonrobust     & \\textbf{                     } &             \\\\\n",
       "\\bottomrule\n",
       "\\end{tabular}\n",
       "\\begin{tabular}{lcccccc}\n",
       "                         & \\textbf{coef} & \\textbf{std err} & \\textbf{t} & \\textbf{P$> |$t$|$} & \\textbf{[0.025} & \\textbf{0.975]}  \\\\\n",
       "\\midrule\n",
       "\\textbf{const}           &      10.0579  &        0.121     &    82.864  &         0.000        &        9.819    &       10.297     \\\\\n",
       "\\textbf{nearinc}         &      -0.1557  &        0.047     &    -3.336  &         0.001        &       -0.248    &       -0.064     \\\\\n",
       "\\textbf{y81}             &       0.4110  &        0.035     &    11.717  &         0.000        &        0.342    &        0.480     \\\\\n",
       "\\textbf{treatment\\_post} &      -0.0672  &        0.063     &    -1.067  &         0.287        &       -0.191    &        0.057     \\\\\n",
       "\\textbf{rooms}           &       0.0843  &        0.020     &     4.308  &         0.000        &        0.046    &        0.123     \\\\\n",
       "\\textbf{area}            &       0.0003  &     2.47e-05     &    10.384  &         0.000        &        0.000    &        0.000     \\\\\n",
       "\\textbf{land}            &    7.968e-07  &     3.99e-07     &     1.998  &         0.047        &     1.22e-08    &     1.58e-06     \\\\\n",
       "\\textbf{wind}            &       0.0095  &        0.007     &     1.462  &         0.145        &       -0.003    &        0.022     \\\\\n",
       "\\bottomrule\n",
       "\\end{tabular}\n",
       "\\begin{tabular}{lclc}\n",
       "\\textbf{Omnibus:}       & 34.956 & \\textbf{  Durbin-Watson:     } &    1.706  \\\\\n",
       "\\textbf{Prob(Omnibus):} &  0.000 & \\textbf{  Jarque-Bera (JB):  } &   74.438  \\\\\n",
       "\\textbf{Skew:}          & -0.572 & \\textbf{  Prob(JB):          } & 6.85e-17  \\\\\n",
       "\\textbf{Kurtosis:}      &  5.067 & \\textbf{  Cond. No.          } & 5.07e+05  \\\\\n",
       "\\bottomrule\n",
       "\\end{tabular}\n",
       "%\\caption{OLS Regression Results}\n",
       "\\end{center}\n",
       "\n",
       "Notes: \\newline\n",
       " [1] Standard Errors assume that the covariance matrix of the errors is correctly specified. \\newline\n",
       " [2] The condition number is large, 5.07e+05. This might indicate that there are \\newline\n",
       " strong multicollinearity or other numerical problems."
      ],
      "text/plain": [
       "<class 'statsmodels.iolib.summary.Summary'>\n",
       "\"\"\"\n",
       "                            OLS Regression Results                            \n",
       "==============================================================================\n",
       "Dep. Variable:                 lprice   R-squared:                       0.684\n",
       "Model:                            OLS   Adj. R-squared:                  0.677\n",
       "Method:                 Least Squares   F-statistic:                     96.36\n",
       "Date:                Thu, 11 Apr 2024   Prob (F-statistic):           3.71e-74\n",
       "Time:                        12:05:58   Log-Likelihood:                -5.4537\n",
       "No. Observations:                 320   AIC:                             26.91\n",
       "Df Residuals:                     312   BIC:                             57.05\n",
       "Df Model:                           7                                         \n",
       "Covariance Type:            nonrobust                                         \n",
       "==================================================================================\n",
       "                     coef    std err          t      P>|t|      [0.025      0.975]\n",
       "----------------------------------------------------------------------------------\n",
       "const             10.0579      0.121     82.864      0.000       9.819      10.297\n",
       "nearinc           -0.1557      0.047     -3.336      0.001      -0.248      -0.064\n",
       "y81                0.4110      0.035     11.717      0.000       0.342       0.480\n",
       "treatment_post    -0.0672      0.063     -1.067      0.287      -0.191       0.057\n",
       "rooms              0.0843      0.020      4.308      0.000       0.046       0.123\n",
       "area               0.0003   2.47e-05     10.384      0.000       0.000       0.000\n",
       "land            7.968e-07   3.99e-07      1.998      0.047    1.22e-08    1.58e-06\n",
       "wind               0.0095      0.007      1.462      0.145      -0.003       0.022\n",
       "==============================================================================\n",
       "Omnibus:                       34.956   Durbin-Watson:                   1.706\n",
       "Prob(Omnibus):                  0.000   Jarque-Bera (JB):               74.438\n",
       "Skew:                          -0.572   Prob(JB):                     6.85e-17\n",
       "Kurtosis:                       5.067   Cond. No.                     5.07e+05\n",
       "==============================================================================\n",
       "\n",
       "Notes:\n",
       "[1] Standard Errors assume that the covariance matrix of the errors is correctly specified.\n",
       "[2] The condition number is large, 5.07e+05. This might indicate that there are\n",
       "strong multicollinearity or other numerical problems.\n",
       "\"\"\""
      ]
     },
     "execution_count": 22,
     "metadata": {},
     "output_type": "execute_result"
    }
   ],
   "source": [
    "diff_in_diff.run_diff_in_diff(df, \"nearinc\", \"y81\", \"lprice\", [\"rooms\", \"area\", \"land\", \"wind\"])"
   ]
  },
  {
   "cell_type": "code",
   "execution_count": null,
   "metadata": {},
   "outputs": [],
   "source": []
  }
 ],
 "metadata": {
  "kernelspec": {
   "display_name": ".venv",
   "language": "python",
   "name": "python3"
  },
  "language_info": {
   "codemirror_mode": {
    "name": "ipython",
    "version": 3
   },
   "file_extension": ".py",
   "mimetype": "text/x-python",
   "name": "python",
   "nbconvert_exporter": "python",
   "pygments_lexer": "ipython3",
   "version": "3.12.2"
  }
 },
 "nbformat": 4,
 "nbformat_minor": 2
}
