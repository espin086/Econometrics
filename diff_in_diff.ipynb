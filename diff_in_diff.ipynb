{
 "cells": [
  {
   "cell_type": "code",
   "execution_count": 11,
   "metadata": {},
   "outputs": [],
   "source": [
    "import pandas as pd"
   ]
  },
  {
   "cell_type": "code",
   "execution_count": 12,
   "metadata": {},
   "outputs": [
    {
     "data": {
      "text/plain": [
       "<module 'diff_in_diff' from '/Users/jjespinoza/Documents/repos/Econometrics/diff_in_diff.py'>"
      ]
     },
     "execution_count": 12,
     "metadata": {},
     "output_type": "execute_result"
    }
   ],
   "source": [
    "import diff_in_diff\n",
    "import importlib\n",
    "\n",
    "importlib.reload(diff_in_diff)\n"
   ]
  },
  {
   "cell_type": "code",
   "execution_count": 13,
   "metadata": {},
   "outputs": [
    {
     "name": "stdout",
     "output_type": "stream",
     "text": [
      "WARNING *** OLE2 inconsistency: SSCS size is 0 but SSAT size is non-zero\n"
     ]
    }
   ],
   "source": [
    "df = pd.read_excel('data/kielmc.xls')"
   ]
  },
  {
   "cell_type": "code",
   "execution_count": 14,
   "metadata": {},
   "outputs": [
    {
     "name": "stdout",
     "output_type": "stream",
     "text": [
      "KIELMC.DES\n",
      "\n",
      "year      age       agesq     nbh       cbd       intst     lintst    price    \n",
      "rooms     area      land      baths     dist      ldist     wind      lprice   \n",
      "y81       larea     lland     y81ldist  lintstsq  nearinc   y81nrinc  rprice   \n",
      "lrprice   \n",
      "\n",
      "  Obs:   321\n",
      "\n",
      "  1. year                     1978 or 1981\n",
      "  2. age                      age of house\n",
      "  3. agesq                    age^2\n",
      "  4. nbh                      neighborhood #, 1 to 6\n",
      "  5. cbd                      dist. to central bus. dstrct, feet\n",
      "  6. intst                    dist. to interstate, feet\n",
      "  7. lintst                   log(intst)\n",
      "  8. price                    selling price\n",
      "  9. rooms                    # rooms in house\n",
      " 10. area                     square footage of house\n",
      " 11. land                     square footage lot\n",
      " 12. baths                    # bathrooms\n",
      " 13. dist                     dist. from house to incinerator, feet\n",
      " 14. ldist                    log(dist)\n",
      " 15. wind                     perc. time wind incin. to house\n",
      " 16. lprice                   log(price)\n",
      " 17. y81                      =1 if year == 1981\n",
      " 18. larea                    log(area)\n",
      " 19. lland                    log(land)\n",
      " 20. y81ldist                 y81*ldist\n",
      " 21. lintstsq                 lintst^2\n",
      " 22. nearinc                  =1 if dist <= 15840\n",
      " 23. y81nrinc                 y81*nearinc\n",
      " 24. rprice                   price, 1978 dollars\n",
      " 25. lrprice                  log(rprice)\n",
      "\n"
     ]
    }
   ],
   "source": [
    "!cat data/kielmc.des"
   ]
  },
  {
   "cell_type": "code",
   "execution_count": 15,
   "metadata": {},
   "outputs": [],
   "source": [
    "new_column_names = ['year', 'age', 'agesq', 'nbh', 'cbd', 'intst', 'lintst', 'price', 'rooms', 'area', 'land', 'baths', 'dist', 'ldist', 'wind', 'lprice', 'y81', 'larea', 'lland', 'y81ldist', 'lintstsq', 'nearinc', 'y81nrinc', 'rprice', 'lrprice']\n",
    "df = df.rename(columns=dict(zip(df.columns, new_column_names)))\n",
    "df.to_excel('data/kielmc_clean.xlsx', index=False)\n"
   ]
  },
  {
   "cell_type": "code",
   "execution_count": 16,
   "metadata": {},
   "outputs": [
    {
     "data": {
      "text/html": [
       "<table class=\"simpletable\">\n",
       "<caption>OLS Regression Results</caption>\n",
       "<tr>\n",
       "  <th>Dep. Variable:</th>         <td>lprice</td>      <th>  R-squared:         </th> <td>   0.408</td>\n",
       "</tr>\n",
       "<tr>\n",
       "  <th>Model:</th>                   <td>OLS</td>       <th>  Adj. R-squared:    </th> <td>   0.402</td>\n",
       "</tr>\n",
       "<tr>\n",
       "  <th>Method:</th>             <td>Least Squares</td>  <th>  F-statistic:       </th> <td>   72.52</td>\n",
       "</tr>\n",
       "<tr>\n",
       "  <th>Date:</th>             <td>Thu, 11 Apr 2024</td> <th>  Prob (F-statistic):</th> <td>1.03e-35</td>\n",
       "</tr>\n",
       "<tr>\n",
       "  <th>Time:</th>                 <td>09:23:38</td>     <th>  Log-Likelihood:    </th> <td> -105.83</td>\n",
       "</tr>\n",
       "<tr>\n",
       "  <th>No. Observations:</th>      <td>   320</td>      <th>  AIC:               </th> <td>   219.7</td>\n",
       "</tr>\n",
       "<tr>\n",
       "  <th>Df Residuals:</th>          <td>   316</td>      <th>  BIC:               </th> <td>   234.7</td>\n",
       "</tr>\n",
       "<tr>\n",
       "  <th>Df Model:</th>              <td>     3</td>      <th>                     </th>     <td> </td>   \n",
       "</tr>\n",
       "<tr>\n",
       "  <th>Covariance Type:</th>      <td>nonrobust</td>    <th>                     </th>     <td> </td>   \n",
       "</tr>\n",
       "</table>\n",
       "<table class=\"simpletable\">\n",
       "<tr>\n",
       "         <td></td>           <th>coef</th>     <th>std err</th>      <th>t</th>      <th>P>|t|</th>  <th>[0.025</th>    <th>0.975]</th>  \n",
       "</tr>\n",
       "<tr>\n",
       "  <th>const</th>          <td>   11.2854</td> <td>    0.031</td> <td>  369.271</td> <td> 0.000</td> <td>   11.225</td> <td>   11.346</td>\n",
       "</tr>\n",
       "<tr>\n",
       "  <th>nearinc</th>        <td>   -0.3410</td> <td>    0.055</td> <td>   -6.201</td> <td> 0.000</td> <td>   -0.449</td> <td>   -0.233</td>\n",
       "</tr>\n",
       "<tr>\n",
       "  <th>y81</th>            <td>    0.4570</td> <td>    0.045</td> <td>   10.068</td> <td> 0.000</td> <td>    0.368</td> <td>    0.546</td>\n",
       "</tr>\n",
       "<tr>\n",
       "  <th>treatment_post</th> <td>   -0.0616</td> <td>    0.084</td> <td>   -0.735</td> <td> 0.463</td> <td>   -0.226</td> <td>    0.103</td>\n",
       "</tr>\n",
       "</table>\n",
       "<table class=\"simpletable\">\n",
       "<tr>\n",
       "  <th>Omnibus:</th>       <td>29.375</td> <th>  Durbin-Watson:     </th> <td>   1.565</td>\n",
       "</tr>\n",
       "<tr>\n",
       "  <th>Prob(Omnibus):</th> <td> 0.000</td> <th>  Jarque-Bera (JB):  </th> <td>  83.642</td>\n",
       "</tr>\n",
       "<tr>\n",
       "  <th>Skew:</th>          <td> 0.372</td> <th>  Prob(JB):          </th> <td>6.88e-19</td>\n",
       "</tr>\n",
       "<tr>\n",
       "  <th>Kurtosis:</th>      <td> 5.392</td> <th>  Cond. No.          </th> <td>    6.06</td>\n",
       "</tr>\n",
       "</table><br/><br/>Notes:<br/>[1] Standard Errors assume that the covariance matrix of the errors is correctly specified."
      ],
      "text/latex": [
       "\\begin{center}\n",
       "\\begin{tabular}{lclc}\n",
       "\\toprule\n",
       "\\textbf{Dep. Variable:}    &      lprice      & \\textbf{  R-squared:         } &     0.408   \\\\\n",
       "\\textbf{Model:}            &       OLS        & \\textbf{  Adj. R-squared:    } &     0.402   \\\\\n",
       "\\textbf{Method:}           &  Least Squares   & \\textbf{  F-statistic:       } &     72.52   \\\\\n",
       "\\textbf{Date:}             & Thu, 11 Apr 2024 & \\textbf{  Prob (F-statistic):} &  1.03e-35   \\\\\n",
       "\\textbf{Time:}             &     09:23:38     & \\textbf{  Log-Likelihood:    } &   -105.83   \\\\\n",
       "\\textbf{No. Observations:} &         320      & \\textbf{  AIC:               } &     219.7   \\\\\n",
       "\\textbf{Df Residuals:}     &         316      & \\textbf{  BIC:               } &     234.7   \\\\\n",
       "\\textbf{Df Model:}         &           3      & \\textbf{                     } &             \\\\\n",
       "\\textbf{Covariance Type:}  &    nonrobust     & \\textbf{                     } &             \\\\\n",
       "\\bottomrule\n",
       "\\end{tabular}\n",
       "\\begin{tabular}{lcccccc}\n",
       "                         & \\textbf{coef} & \\textbf{std err} & \\textbf{t} & \\textbf{P$> |$t$|$} & \\textbf{[0.025} & \\textbf{0.975]}  \\\\\n",
       "\\midrule\n",
       "\\textbf{const}           &      11.2854  &        0.031     &   369.271  &         0.000        &       11.225    &       11.346     \\\\\n",
       "\\textbf{nearinc}         &      -0.3410  &        0.055     &    -6.201  &         0.000        &       -0.449    &       -0.233     \\\\\n",
       "\\textbf{y81}             &       0.4570  &        0.045     &    10.068  &         0.000        &        0.368    &        0.546     \\\\\n",
       "\\textbf{treatment\\_post} &      -0.0616  &        0.084     &    -0.735  &         0.463        &       -0.226    &        0.103     \\\\\n",
       "\\bottomrule\n",
       "\\end{tabular}\n",
       "\\begin{tabular}{lclc}\n",
       "\\textbf{Omnibus:}       & 29.375 & \\textbf{  Durbin-Watson:     } &    1.565  \\\\\n",
       "\\textbf{Prob(Omnibus):} &  0.000 & \\textbf{  Jarque-Bera (JB):  } &   83.642  \\\\\n",
       "\\textbf{Skew:}          &  0.372 & \\textbf{  Prob(JB):          } & 6.88e-19  \\\\\n",
       "\\textbf{Kurtosis:}      &  5.392 & \\textbf{  Cond. No.          } &     6.06  \\\\\n",
       "\\bottomrule\n",
       "\\end{tabular}\n",
       "%\\caption{OLS Regression Results}\n",
       "\\end{center}\n",
       "\n",
       "Notes: \\newline\n",
       " [1] Standard Errors assume that the covariance matrix of the errors is correctly specified."
      ],
      "text/plain": [
       "<class 'statsmodels.iolib.summary.Summary'>\n",
       "\"\"\"\n",
       "                            OLS Regression Results                            \n",
       "==============================================================================\n",
       "Dep. Variable:                 lprice   R-squared:                       0.408\n",
       "Model:                            OLS   Adj. R-squared:                  0.402\n",
       "Method:                 Least Squares   F-statistic:                     72.52\n",
       "Date:                Thu, 11 Apr 2024   Prob (F-statistic):           1.03e-35\n",
       "Time:                        09:23:38   Log-Likelihood:                -105.83\n",
       "No. Observations:                 320   AIC:                             219.7\n",
       "Df Residuals:                     316   BIC:                             234.7\n",
       "Df Model:                           3                                         \n",
       "Covariance Type:            nonrobust                                         \n",
       "==================================================================================\n",
       "                     coef    std err          t      P>|t|      [0.025      0.975]\n",
       "----------------------------------------------------------------------------------\n",
       "const             11.2854      0.031    369.271      0.000      11.225      11.346\n",
       "nearinc           -0.3410      0.055     -6.201      0.000      -0.449      -0.233\n",
       "y81                0.4570      0.045     10.068      0.000       0.368       0.546\n",
       "treatment_post    -0.0616      0.084     -0.735      0.463      -0.226       0.103\n",
       "==============================================================================\n",
       "Omnibus:                       29.375   Durbin-Watson:                   1.565\n",
       "Prob(Omnibus):                  0.000   Jarque-Bera (JB):               83.642\n",
       "Skew:                           0.372   Prob(JB):                     6.88e-19\n",
       "Kurtosis:                       5.392   Cond. No.                         6.06\n",
       "==============================================================================\n",
       "\n",
       "Notes:\n",
       "[1] Standard Errors assume that the covariance matrix of the errors is correctly specified.\n",
       "\"\"\""
      ]
     },
     "execution_count": 16,
     "metadata": {},
     "output_type": "execute_result"
    }
   ],
   "source": [
    "diff_in_diff.run_diff_in_diff(df, \"nearinc\", \"y81\", \"lprice\")"
   ]
  },
  {
   "cell_type": "code",
   "execution_count": null,
   "metadata": {},
   "outputs": [],
   "source": []
  }
 ],
 "metadata": {
  "kernelspec": {
   "display_name": ".venv",
   "language": "python",
   "name": "python3"
  },
  "language_info": {
   "codemirror_mode": {
    "name": "ipython",
    "version": 3
   },
   "file_extension": ".py",
   "mimetype": "text/x-python",
   "name": "python",
   "nbconvert_exporter": "python",
   "pygments_lexer": "ipython3",
   "version": "3.12.2"
  }
 },
 "nbformat": 4,
 "nbformat_minor": 2
}
